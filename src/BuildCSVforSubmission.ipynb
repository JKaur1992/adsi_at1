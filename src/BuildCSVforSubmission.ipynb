{
 "cells": [
  {
   "cell_type": "code",
   "execution_count": null,
   "id": "a2bd346e",
   "metadata": {},
   "outputs": [],
   "source": [
    "def BuildCSVforSubmission(IDlist,PredictionList):\n",
    "    iErrCode = 0\n",
    "    fFileName = 'submission.csv'\n",
    "    if (IDlist.size != 3799) or (PredictionList.size != 3799):\n",
    "        iErrCode = 1\n",
    "    if iErrCode == 0:\n",
    "        if not(isinstance(IDlist, pd.Series)):\n",
    "            list1 = pd.Series(IDlist)\n",
    "        else:\n",
    "            list1 = IDlist.copy()\n",
    "        if not(isinstance(PredictionList, pd.Series)):\n",
    "            list2 = pd.Series(PredictionList)\n",
    "        else:\n",
    "            list2 = IDlist.copy()\n",
    "        #list2.round(2)\n",
    "        #df_out = pd.DataFrame([list1,list2])\n",
    "        df_out = pd.DataFrame({'Id':list1,'TARGET_5Yrs':list2})\n",
    "        df_out.to_csv(path_or_buf = '../data/processed/'+fFileName,index=False)\n",
    "    return iErrCode"
   ]
  }
 ],
 "metadata": {
  "kernelspec": {
   "display_name": "Python 3 (ipykernel)",
   "language": "python",
   "name": "python3"
  },
  "language_info": {
   "codemirror_mode": {
    "name": "ipython",
    "version": 3
   },
   "file_extension": ".py",
   "mimetype": "text/x-python",
   "name": "python",
   "nbconvert_exporter": "python",
   "pygments_lexer": "ipython3",
   "version": "3.9.10"
  }
 },
 "nbformat": 4,
 "nbformat_minor": 5
}
