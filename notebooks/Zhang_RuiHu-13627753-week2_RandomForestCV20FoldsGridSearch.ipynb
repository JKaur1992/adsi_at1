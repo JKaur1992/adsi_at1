{
 "cells": [
  {
   "cell_type": "markdown",
   "id": "03ee6ee1",
   "metadata": {},
   "source": [
    "## Import Datasets"
   ]
  },
  {
   "cell_type": "code",
   "execution_count": 1,
   "id": "d025d05d",
   "metadata": {},
   "outputs": [],
   "source": [
    "from joblib import dump\n",
    "import math\n",
    "import pandas as pd\n",
    "import numpy as np\n",
    "import random\n",
    "from sklearn.preprocessing import StandardScaler\n",
    "from sklearn.metrics import roc_auc_score"
   ]
  },
  {
   "cell_type": "code",
   "execution_count": 3,
   "id": "9b04ac03",
   "metadata": {},
   "outputs": [],
   "source": [
    "df_raw_train = pd.read_csv('../data/raw/train.csv')\n",
    "df_raw_test = pd.read_csv('../data/raw/test.csv')"
   ]
  },
  {
   "cell_type": "markdown",
   "id": "b52b787b",
   "metadata": {},
   "source": [
    "## Set up constants"
   ]
  },
  {
   "cell_type": "code",
   "execution_count": 16,
   "id": "f0c8e586",
   "metadata": {},
   "outputs": [],
   "source": [
    "train_df_size = 0.8\n",
    "rand_state_ind = 42\n",
    "validation_df_size = 0.2\n",
    "cv = 10\n",
    "scoring = 'roc_auc'"
   ]
  },
  {
   "cell_type": "markdown",
   "id": "e420563d",
   "metadata": {},
   "source": [
    "## Perform standard data scaling"
   ]
  },
  {
   "cell_type": "code",
   "execution_count": 5,
   "id": "f68de3e8",
   "metadata": {},
   "outputs": [],
   "source": [
    "df_cleaned_train = df_raw_train.copy()\n",
    "target = df_cleaned_train.pop('TARGET_5Yrs')\n",
    "IDlist_train = df_cleaned_train.pop('Id')\n",
    "df_col_names = df_cleaned_train.columns\n",
    "train_dataset_size = IDlist_train.size"
   ]
  },
  {
   "cell_type": "code",
   "execution_count": 6,
   "id": "bfd3d597",
   "metadata": {},
   "outputs": [],
   "source": [
    "scaler = StandardScaler()\n",
    "array_cleaned_train = scaler.fit_transform(df_cleaned_train)\n",
    "df_cleaned2_train = pd.DataFrame(array_cleaned_train,columns=df_col_names)"
   ]
  },
  {
   "cell_type": "code",
   "execution_count": 7,
   "id": "95dda4cf",
   "metadata": {},
   "outputs": [],
   "source": [
    "df_cleaned_test = df_raw_test.copy()\n",
    "IDlist_test = df_cleaned_test.pop('Id')\n",
    "array_cleaned_test = scaler.transform(df_cleaned_test) \n",
    "df_cleaned2_test = pd.DataFrame(array_cleaned_test,columns=df_col_names)"
   ]
  },
  {
   "cell_type": "code",
   "execution_count": 8,
   "id": "9076c334",
   "metadata": {},
   "outputs": [
    {
     "data": {
      "text/plain": [
       "['../models/scaler.joblib']"
      ]
     },
     "execution_count": 8,
     "metadata": {},
     "output_type": "execute_result"
    }
   ],
   "source": [
    "dump(scaler, '../models/scaler.joblib')"
   ]
  },
  {
   "cell_type": "code",
   "execution_count": 9,
   "id": "010fa043",
   "metadata": {},
   "outputs": [],
   "source": [
    "y_train_pos_count = sum(target)\n",
    "y_train_neg_count = target.size - y_train_pos_count"
   ]
  },
  {
   "cell_type": "markdown",
   "id": "c44213e2",
   "metadata": {},
   "source": [
    "## Set up grid search for Random Forest models"
   ]
  },
  {
   "cell_type": "code",
   "execution_count": 10,
   "id": "06e66d8e",
   "metadata": {},
   "outputs": [],
   "source": [
    "from sklearn.model_selection import GridSearchCV\n",
    "from sklearn.ensemble import RandomForestClassifier"
   ]
  },
  {
   "cell_type": "markdown",
   "id": "df22d001",
   "metadata": {},
   "source": [
    "### Set up the hyperparameter space "
   ]
  },
  {
   "cell_type": "code",
   "execution_count": 13,
   "id": "7129f212",
   "metadata": {},
   "outputs": [],
   "source": [
    "RFModel = RandomForestClassifier(random_state=42)"
   ]
  },
  {
   "cell_type": "code",
   "execution_count": 11,
   "id": "7f942e8e",
   "metadata": {},
   "outputs": [],
   "source": [
    "n_estimators = np.logspace(start=1, stop=round(math.log(train_dataset_size/2,2)),base=2,num=5).astype(int)\n",
    "max_depth = np.arange(start=2,stop=5)\n",
    "min_samples_split = np.logspace(start=1, stop=round(math.log(train_dataset_size/2),2),base=2,num=5).astype(int)\n",
    "param_grid2 = {'max_depth':max_depth,'n_estimators':n_estimators,'min_samples_split':min_samples_split}"
   ]
  },
  {
   "cell_type": "code",
   "execution_count": null,
   "id": "87093d99",
   "metadata": {},
   "outputs": [
    {
     "name": "stdout",
     "output_type": "stream",
     "text": [
      "Fitting 10 folds for each of 75 candidates, totalling 750 fits\n",
      "[CV 1/10] END max_depth=2, min_samples_split=2, n_estimators=2;, score=(train=0.658, test=0.660) total time=   0.0s\n",
      "[CV 2/10] END max_depth=2, min_samples_split=2, n_estimators=2;, score=(train=0.652, test=0.610) total time=   0.0s\n",
      "[CV 3/10] END max_depth=2, min_samples_split=2, n_estimators=2;, score=(train=0.658, test=0.660) total time=   0.0s\n",
      "[CV 4/10] END max_depth=2, min_samples_split=2, n_estimators=2;, score=(train=0.667, test=0.635) total time=   0.0s\n",
      "[CV 5/10] END max_depth=2, min_samples_split=2, n_estimators=2;, score=(train=0.661, test=0.630) total time=   0.0s\n",
      "[CV 6/10] END max_depth=2, min_samples_split=2, n_estimators=2;, score=(train=0.669, test=0.642) total time=   0.0s\n",
      "[CV 7/10] END max_depth=2, min_samples_split=2, n_estimators=2;, score=(train=0.657, test=0.584) total time=   0.0s\n",
      "[CV 8/10] END max_depth=2, min_samples_split=2, n_estimators=2;, score=(train=0.662, test=0.692) total time=   0.0s\n",
      "[CV 9/10] END max_depth=2, min_samples_split=2, n_estimators=2;, score=(train=0.662, test=0.623) total time=   0.0s\n",
      "[CV 10/10] END max_depth=2, min_samples_split=2, n_estimators=2;, score=(train=0.658, test=0.676) total time=   0.0s\n",
      "[CV 1/10] END max_depth=2, min_samples_split=2, n_estimators=13;, score=(train=0.693, test=0.696) total time=   0.0s\n",
      "[CV 2/10] END max_depth=2, min_samples_split=2, n_estimators=13;, score=(train=0.697, test=0.672) total time=   0.0s\n",
      "[CV 3/10] END max_depth=2, min_samples_split=2, n_estimators=13;, score=(train=0.694, test=0.699) total time=   0.0s\n",
      "[CV 4/10] END max_depth=2, min_samples_split=2, n_estimators=13;, score=(train=0.695, test=0.671) total time=   0.0s\n",
      "[CV 5/10] END max_depth=2, min_samples_split=2, n_estimators=13;, score=(train=0.694, test=0.683) total time=   0.0s\n",
      "[CV 6/10] END max_depth=2, min_samples_split=2, n_estimators=13;, score=(train=0.699, test=0.655) total time=   0.0s\n",
      "[CV 7/10] END max_depth=2, min_samples_split=2, n_estimators=13;, score=(train=0.698, test=0.643) total time=   0.0s\n",
      "[CV 8/10] END max_depth=2, min_samples_split=2, n_estimators=13;, score=(train=0.696, test=0.734) total time=   0.0s\n",
      "[CV 9/10] END max_depth=2, min_samples_split=2, n_estimators=13;, score=(train=0.701, test=0.664) total time=   0.0s\n",
      "[CV 10/10] END max_depth=2, min_samples_split=2, n_estimators=13;, score=(train=0.698, test=0.714) total time=   0.0s\n",
      "[CV 1/10] END max_depth=2, min_samples_split=2, n_estimators=90;, score=(train=0.699, test=0.700) total time=   0.2s\n",
      "[CV 2/10] END max_depth=2, min_samples_split=2, n_estimators=90;, score=(train=0.701, test=0.674) total time=   0.2s\n",
      "[CV 3/10] END max_depth=2, min_samples_split=2, n_estimators=90;, score=(train=0.699, test=0.712) total time=   0.2s\n",
      "[CV 4/10] END max_depth=2, min_samples_split=2, n_estimators=90;, score=(train=0.702, test=0.677) total time=   0.2s\n",
      "[CV 5/10] END max_depth=2, min_samples_split=2, n_estimators=90;, score=(train=0.700, test=0.693) total time=   0.2s\n",
      "[CV 6/10] END max_depth=2, min_samples_split=2, n_estimators=90;, score=(train=0.705, test=0.656) total time=   0.2s\n",
      "[CV 7/10] END max_depth=2, min_samples_split=2, n_estimators=90;, score=(train=0.704, test=0.653) total time=   0.2s\n",
      "[CV 8/10] END max_depth=2, min_samples_split=2, n_estimators=90;, score=(train=0.697, test=0.743) total time=   0.2s\n",
      "[CV 9/10] END max_depth=2, min_samples_split=2, n_estimators=90;, score=(train=0.704, test=0.669) total time=   0.2s\n",
      "[CV 10/10] END max_depth=2, min_samples_split=2, n_estimators=90;, score=(train=0.700, test=0.713) total time=   0.2s\n",
      "[CV 1/10] END max_depth=2, min_samples_split=2, n_estimators=608;, score=(train=0.699, test=0.701) total time=   1.8s\n"
     ]
    }
   ],
   "source": [
    "clf12 = GridSearchCV(estimator=RFModel,param_grid=param_grid2,cv=cv,scoring=scoring,return_train_score=True,verbose=3)\n",
    "clf12.fit(df_cleaned2_train, target)\n",
    "clf12.best_estimator_\n",
    "clf12.score(df_cleaned2_train, target)\n",
    "clf12.cv_results_.keys()\n",
    "test_grid_2 = clf12.predict_proba(df_cleaned2_test)[:,1]"
   ]
  },
  {
   "cell_type": "code",
   "execution_count": null,
   "id": "02b7e430",
   "metadata": {},
   "outputs": [],
   "source": [
    "dump(clf12,  '../models/randforest_10cv_gridsearch_basic.joblib')"
   ]
  },
  {
   "cell_type": "code",
   "execution_count": null,
   "id": "a38ad0a3",
   "metadata": {},
   "outputs": [],
   "source": [
    "dump(clf12.best_estimator_,  '../models/randforest_10cv_gridsearch_best.joblib')"
   ]
  }
 ],
 "metadata": {
  "kernelspec": {
   "display_name": "Python 3 (ipykernel)",
   "language": "python",
   "name": "python3"
  },
  "language_info": {
   "codemirror_mode": {
    "name": "ipython",
    "version": 3
   },
   "file_extension": ".py",
   "mimetype": "text/x-python",
   "name": "python",
   "nbconvert_exporter": "python",
   "pygments_lexer": "ipython3",
   "version": "3.9.10"
  }
 },
 "nbformat": 4,
 "nbformat_minor": 5
}
