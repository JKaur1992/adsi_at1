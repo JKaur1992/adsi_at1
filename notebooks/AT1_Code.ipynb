{
 "cells": [
  {
   "cell_type": "markdown",
   "id": "34cbdf2a",
   "metadata": {},
   "source": [
    "# 1. Run these commands in Terminal"
   ]
  },
  {
   "cell_type": "code",
   "execution_count": null,
   "id": "3fac0113",
   "metadata": {},
   "outputs": [],
   "source": [
    "conda activate pytorch_m1"
   ]
  },
  {
   "cell_type": "code",
   "execution_count": null,
   "id": "3c2cc210",
   "metadata": {},
   "outputs": [],
   "source": [
    "cd /Users/jasle1/Desktop/MDSI/ADSI/AT_1"
   ]
  },
  {
   "cell_type": "markdown",
   "id": "d6c8befd",
   "metadata": {},
   "source": []
  },
  {
   "cell_type": "code",
   "execution_count": null,
   "id": "6d932fd6",
   "metadata": {},
   "outputs": [],
   "source": [
    "# Download the cookiecutter data science template to load to github\n",
    "cookiecutter -c v1 https://github.com/drivendata/cookiecutter-data-science\n",
    "\n",
    "# follow the prompts and template will be downloaded as a folder"
   ]
  },
  {
   "cell_type": "markdown",
   "id": "501f0c46",
   "metadata": {},
   "source": [
    "# 2. Upload the folder onto github repository"
   ]
  },
  {
   "cell_type": "code",
   "execution_count": null,
   "id": "14d1e85b",
   "metadata": {},
   "outputs": [],
   "source": [
    "cd /Users/jasle1/Desktop/MDSI/ADSI/AT_1/adsi_at1"
   ]
  },
  {
   "cell_type": "code",
   "execution_count": null,
   "id": "b56e3028",
   "metadata": {},
   "outputs": [],
   "source": [
    "git init"
   ]
  },
  {
   "cell_type": "code",
   "execution_count": null,
   "id": "1f2c72ce",
   "metadata": {},
   "outputs": [],
   "source": [
    "git remote add origin https://github.com/JKaur1992/adsi_at1.git"
   ]
  },
  {
   "cell_type": "code",
   "execution_count": null,
   "id": "68c9770e",
   "metadata": {},
   "outputs": [],
   "source": [
    "git add ."
   ]
  },
  {
   "cell_type": "code",
   "execution_count": null,
   "id": "286bf6ef",
   "metadata": {},
   "outputs": [],
   "source": [
    "git commit -m \"first commit\""
   ]
  },
  {
   "cell_type": "code",
   "execution_count": null,
   "id": "5402de50",
   "metadata": {},
   "outputs": [],
   "source": [
    "git push --set-upstream origin master"
   ]
  },
  {
   "cell_type": "code",
   "execution_count": null,
   "id": "903ed60b",
   "metadata": {},
   "outputs": [],
   "source": []
  },
  {
   "cell_type": "code",
   "execution_count": null,
   "id": "040b9e4e",
   "metadata": {},
   "outputs": [],
   "source": []
  },
  {
   "cell_type": "code",
   "execution_count": null,
   "id": "9345f1a4",
   "metadata": {},
   "outputs": [],
   "source": [
    "import numpy as np\n",
    "import pandas as pd"
   ]
  }
 ],
 "metadata": {
  "kernelspec": {
   "display_name": "Python 3.8.12 64-bit ('pytorch_m1': conda)",
   "language": "python",
   "name": "python3812jvsc74a57bd06542be600deb830c4bce82ce8a12106e8b76a038cf3920d451d7fa959f745ece"
  },
  "language_info": {
   "codemirror_mode": {
    "name": "ipython",
    "version": 3
   },
   "file_extension": ".py",
   "mimetype": "text/x-python",
   "name": "python",
   "nbconvert_exporter": "python",
   "pygments_lexer": "ipython3",
   "version": "3.8.12"
  }
 },
 "nbformat": 4,
 "nbformat_minor": 5
}
