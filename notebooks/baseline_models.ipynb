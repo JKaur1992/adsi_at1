{
 "cells": [
  {
   "cell_type": "markdown",
   "id": "47e01121",
   "metadata": {},
   "source": [
    "## Data Import"
   ]
  },
  {
   "cell_type": "code",
   "execution_count": 1,
   "id": "0b09ca5b",
   "metadata": {},
   "outputs": [],
   "source": [
    "import pandas as pd\n",
    "import numpy as np\n",
    "from sklearn.metrics import auc as auc\n",
    "from joblib import dump\n",
    "from sklearn.metrics import roc_auc_score"
   ]
  },
  {
   "cell_type": "markdown",
   "id": "297fefbe",
   "metadata": {},
   "source": [
    "# Linear Variable Dataset"
   ]
  },
  {
   "cell_type": "code",
   "execution_count": 2,
   "id": "d1ff11ec",
   "metadata": {},
   "outputs": [],
   "source": [
    "X_train_lin = np.load('../data/processed/X_train_lin.npy')\n",
    "X_val_lin = np.load('../data/processed/X_val_lin.npy'  )\n",
    "X_test_lin = np.load('../data/processed/X_test_lin.npy' )\n",
    "y_train_lin = np.load('../data/processed/y_train_lin.npy')\n",
    "y_val_lin = np.load('../data/processed/y_val_lin.npy'  )"
   ]
  },
  {
   "cell_type": "markdown",
   "id": "43aa045a",
   "metadata": {},
   "source": [
    "## Default Logistic Regression Model"
   ]
  },
  {
   "cell_type": "code",
   "execution_count": 3,
   "id": "5a49c2fb",
   "metadata": {},
   "outputs": [],
   "source": [
    "from sklearn.linear_model import LogisticRegression\n",
    "logRegModel = LogisticRegression(penalty = 'l2')"
   ]
  },
  {
   "cell_type": "code",
   "execution_count": 4,
   "id": "829162ff",
   "metadata": {},
   "outputs": [
    {
     "name": "stderr",
     "output_type": "stream",
     "text": [
      "g:\\data science\\uts courses\\36114 advanced data science for innovation\\assignment1\\codes\\venv\\lib\\site-packages\\sklearn\\linear_model\\_logistic.py:814: ConvergenceWarning: lbfgs failed to converge (status=1):\n",
      "STOP: TOTAL NO. of ITERATIONS REACHED LIMIT.\n",
      "\n",
      "Increase the number of iterations (max_iter) or scale the data as shown in:\n",
      "    https://scikit-learn.org/stable/modules/preprocessing.html\n",
      "Please also refer to the documentation for alternative solver options:\n",
      "    https://scikit-learn.org/stable/modules/linear_model.html#logistic-regression\n",
      "  n_iter_i = _check_optimize_result(\n"
     ]
    }
   ],
   "source": [
    "clf1 = logRegModel.fit(X_train_lin,y_train_lin)\n",
    "y_train_pred1 = clf1.predict(X_train_lin)\n",
    "y_val_pred1 = clf1.predict(X_val_lin)\n",
    "y_test_pred1 = clf1.predict(X_test_lin)"
   ]
  },
  {
   "cell_type": "code",
   "execution_count": 7,
   "id": "ef50d161",
   "metadata": {},
   "outputs": [
    {
     "data": {
      "text/plain": [
       "0.7047755322940454"
      ]
     },
     "execution_count": 7,
     "metadata": {},
     "output_type": "execute_result"
    }
   ],
   "source": [
    "roc_train1 = roc_auc_score(y_train_lin, clf1.predict_proba(X_train_lin)[:,1])\n",
    "roc_train1"
   ]
  },
  {
   "cell_type": "code",
   "execution_count": 8,
   "id": "2d5f83a6",
   "metadata": {},
   "outputs": [
    {
     "data": {
      "text/plain": [
       "0.7017139926277463"
      ]
     },
     "execution_count": 8,
     "metadata": {},
     "output_type": "execute_result"
    }
   ],
   "source": [
    "roc_val1 = roc_auc_score(y_val_lin, clf1.predict_proba(X_val_lin)[:,1])\n",
    "roc_val1"
   ]
  },
  {
   "cell_type": "code",
   "execution_count": 9,
   "id": "bad32f7c",
   "metadata": {},
   "outputs": [
    {
     "data": {
      "text/plain": [
       "['../models/logreg_default.joblib']"
      ]
     },
     "execution_count": 9,
     "metadata": {},
     "output_type": "execute_result"
    }
   ],
   "source": [
    "dump(clf1,  '../models/logreg_default.joblib')"
   ]
  },
  {
   "cell_type": "markdown",
   "id": "d5da098c",
   "metadata": {},
   "source": [
    "## Default Stochastic Gradient Descent (SGD) Model"
   ]
  },
  {
   "cell_type": "code",
   "execution_count": 10,
   "id": "0a950aa9",
   "metadata": {},
   "outputs": [],
   "source": [
    "from sklearn.linear_model import SGDClassifier\n",
    "SGDModel = SGDClassifier(loss='modified_huber')"
   ]
  },
  {
   "cell_type": "code",
   "execution_count": 11,
   "id": "9346b117",
   "metadata": {},
   "outputs": [],
   "source": [
    "clf2 = SGDModel.fit(X_train_lin,y_train_lin)\n",
    "y_train_pred2 = clf2.predict(X_train_lin)\n",
    "y_val_pred2 = clf2.predict(X_val_lin)\n",
    "y_test_pred2 = clf2.predict(X_test_lin)"
   ]
  },
  {
   "cell_type": "code",
   "execution_count": 12,
   "id": "93f79cfb",
   "metadata": {},
   "outputs": [
    {
     "data": {
      "text/plain": [
       "0.5021626164358849"
      ]
     },
     "execution_count": 12,
     "metadata": {},
     "output_type": "execute_result"
    }
   ],
   "source": [
    "roc_train2 = roc_auc_score(y_train_lin, clf2.predict_proba(X_train_lin)[:,1])\n",
    "roc_train2"
   ]
  },
  {
   "cell_type": "code",
   "execution_count": 13,
   "id": "c94d8667",
   "metadata": {},
   "outputs": [
    {
     "data": {
      "text/plain": [
       "0.5094041325202061"
      ]
     },
     "execution_count": 13,
     "metadata": {},
     "output_type": "execute_result"
    }
   ],
   "source": [
    "roc_val2 = roc_auc_score(y_val_lin, clf2.predict_proba(X_val_lin)[:,1])\n",
    "roc_val2"
   ]
  },
  {
   "cell_type": "code",
   "execution_count": 26,
   "id": "b45d6610",
   "metadata": {},
   "outputs": [
    {
     "data": {
      "text/plain": [
       "['../models/sdg_modifiedhuber_default.joblib']"
      ]
     },
     "execution_count": 26,
     "metadata": {},
     "output_type": "execute_result"
    }
   ],
   "source": [
    "dump(clf2,  '../models/sdg_modifiedhuber_default.joblib')"
   ]
  },
  {
   "cell_type": "markdown",
   "id": "b19fbd5f",
   "metadata": {},
   "source": [
    "## Default Random Forest Classifier Model"
   ]
  },
  {
   "cell_type": "code",
   "execution_count": 15,
   "id": "8796d37b",
   "metadata": {},
   "outputs": [],
   "source": [
    "from sklearn.ensemble import RandomForestClassifier\n",
    "RFModel = RandomForestClassifier()"
   ]
  },
  {
   "cell_type": "code",
   "execution_count": 16,
   "id": "fd2e0c68",
   "metadata": {},
   "outputs": [],
   "source": [
    "clf3 = RFModel.fit(X_train_lin,y_train_lin)\n",
    "y_train_pred3 = clf3.predict(X_train_lin)\n",
    "y_val_pred3 = clf3.predict(X_val_lin)\n",
    "y_test_pred3 = clf3.predict(X_test_lin)"
   ]
  },
  {
   "cell_type": "code",
   "execution_count": 17,
   "id": "bf3a6c2d",
   "metadata": {},
   "outputs": [
    {
     "data": {
      "text/plain": [
       "0.9999999999999999"
      ]
     },
     "execution_count": 17,
     "metadata": {},
     "output_type": "execute_result"
    }
   ],
   "source": [
    "roc_train3 = roc_auc_score(y_train_lin, clf3.predict_proba(X_train_lin)[:,1])\n",
    "roc_train3"
   ]
  },
  {
   "cell_type": "code",
   "execution_count": 18,
   "id": "0c45a58d",
   "metadata": {},
   "outputs": [
    {
     "data": {
      "text/plain": [
       "0.6551019602980463"
      ]
     },
     "execution_count": 18,
     "metadata": {},
     "output_type": "execute_result"
    }
   ],
   "source": [
    "roc_val3 = roc_auc_score(y_val_lin, clf3.predict_proba(X_val_lin)[:,1])\n",
    "roc_val3"
   ]
  },
  {
   "cell_type": "code",
   "execution_count": 25,
   "id": "76035010",
   "metadata": {},
   "outputs": [
    {
     "data": {
      "text/plain": [
       "['../models/randfor_default.joblib']"
      ]
     },
     "execution_count": 25,
     "metadata": {},
     "output_type": "execute_result"
    }
   ],
   "source": [
    "dump(clf3,  '../models/randfor_default.joblib')"
   ]
  },
  {
   "cell_type": "markdown",
   "id": "db2d2f49",
   "metadata": {},
   "source": [
    "# Second Order Variable Dataset"
   ]
  },
  {
   "cell_type": "code",
   "execution_count": 20,
   "id": "ed2433d3",
   "metadata": {},
   "outputs": [],
   "source": [
    "X_train_poly = np.load('../data/processed/X_train_lin.npy')\n",
    "X_val_poly = np.load('../data/processed/X_val_lin.npy'  )\n",
    "X_test_poly = np.load('../data/processed/X_test_lin.npy' )\n",
    "y_train_poly = np.load('../data/processed/y_train_lin.npy')\n",
    "y_val_poly = np.load('../data/processed/y_val_lin.npy'  )"
   ]
  },
  {
   "cell_type": "markdown",
   "id": "2ce7a0fb",
   "metadata": {},
   "source": [
    "## Default Logistic Regression Model"
   ]
  },
  {
   "cell_type": "code",
   "execution_count": 21,
   "id": "28d82367",
   "metadata": {},
   "outputs": [
    {
     "name": "stderr",
     "output_type": "stream",
     "text": [
      "g:\\data science\\uts courses\\36114 advanced data science for innovation\\assignment1\\codes\\venv\\lib\\site-packages\\sklearn\\linear_model\\_logistic.py:814: ConvergenceWarning: lbfgs failed to converge (status=1):\n",
      "STOP: TOTAL NO. of ITERATIONS REACHED LIMIT.\n",
      "\n",
      "Increase the number of iterations (max_iter) or scale the data as shown in:\n",
      "    https://scikit-learn.org/stable/modules/preprocessing.html\n",
      "Please also refer to the documentation for alternative solver options:\n",
      "    https://scikit-learn.org/stable/modules/linear_model.html#logistic-regression\n",
      "  n_iter_i = _check_optimize_result(\n"
     ]
    }
   ],
   "source": [
    "clf_poly1 = logRegModel.fit(X_train_poly,y_train_poly)\n",
    "y_train_poly_pred1 = clf_poly1.predict(X_train_poly)\n",
    "y_val_poly_pred1 = clf_poly1.predict(X_val_poly)\n",
    "y_test_poly_pred1 = clf_poly1.predict(X_test_poly)"
   ]
  },
  {
   "cell_type": "code",
   "execution_count": 22,
   "id": "0b0e5036",
   "metadata": {},
   "outputs": [
    {
     "data": {
      "text/plain": [
       "0.7047755322940454"
      ]
     },
     "execution_count": 22,
     "metadata": {},
     "output_type": "execute_result"
    }
   ],
   "source": [
    "roc_train_poly1 = roc_auc_score(y_train_poly, clf_poly1.predict_proba(X_train_poly)[:,1])\n",
    "roc_train_poly1"
   ]
  },
  {
   "cell_type": "code",
   "execution_count": 23,
   "id": "ec43b258",
   "metadata": {},
   "outputs": [
    {
     "data": {
      "text/plain": [
       "0.7017139926277463"
      ]
     },
     "execution_count": 23,
     "metadata": {},
     "output_type": "execute_result"
    }
   ],
   "source": [
    "roc_val_poly1 = roc_auc_score(y_val_poly, clf_poly1.predict_proba(X_val_poly)[:,1])\n",
    "roc_val_poly1"
   ]
  },
  {
   "cell_type": "code",
   "execution_count": 24,
   "id": "ad1d487d",
   "metadata": {},
   "outputs": [
    {
     "data": {
      "text/plain": [
       "['../models/logreg_poly_default.joblib']"
      ]
     },
     "execution_count": 24,
     "metadata": {},
     "output_type": "execute_result"
    }
   ],
   "source": [
    "dump(clf_poly1,  '../models/logreg_poly_default.joblib')"
   ]
  },
  {
   "cell_type": "markdown",
   "id": "7e1c16e3",
   "metadata": {},
   "source": [
    "## Default Stochastic Gradient Descent (SGD) Model"
   ]
  },
  {
   "cell_type": "code",
   "execution_count": 30,
   "id": "d239610d",
   "metadata": {},
   "outputs": [],
   "source": [
    "clf_poly2 = SGDModel.fit(X_train_poly,y_train_poly)\n",
    "y_train_poly_pred2 = clf_poly2.predict(X_train_poly)\n",
    "y_val_poly_pred2 = clf_poly2.predict(X_val_poly)\n",
    "y_test_poly_pred2 = clf_poly2.predict(X_test_poly)"
   ]
  },
  {
   "cell_type": "code",
   "execution_count": 31,
   "id": "5af6c17e",
   "metadata": {},
   "outputs": [
    {
     "data": {
      "text/plain": [
       "0.5033880257489958"
      ]
     },
     "execution_count": 31,
     "metadata": {},
     "output_type": "execute_result"
    }
   ],
   "source": [
    "roc_train_poly2 = roc_auc_score(y_train_poly, clf_poly2.predict_proba(X_train_poly)[:,1])\n",
    "roc_train_poly2"
   ]
  },
  {
   "cell_type": "code",
   "execution_count": 32,
   "id": "0d12a6a3",
   "metadata": {},
   "outputs": [
    {
     "data": {
      "text/plain": [
       "0.5124139058290403"
      ]
     },
     "execution_count": 32,
     "metadata": {},
     "output_type": "execute_result"
    }
   ],
   "source": [
    "roc_val_poly2 = roc_auc_score(y_val_poly, clf_poly2.predict_proba(X_val_poly)[:,1])\n",
    "roc_val_poly2"
   ]
  },
  {
   "cell_type": "code",
   "execution_count": 33,
   "id": "6ae1c077",
   "metadata": {},
   "outputs": [
    {
     "data": {
      "text/plain": [
       "['../models/sdg_modifiedhuber_poly_default.joblib']"
      ]
     },
     "execution_count": 33,
     "metadata": {},
     "output_type": "execute_result"
    }
   ],
   "source": [
    "dump(clf_poly2,  '../models/sdg_modifiedhuber_poly_default.joblib')"
   ]
  },
  {
   "cell_type": "markdown",
   "id": "7402ac16",
   "metadata": {},
   "source": [
    "## Default Random Forest Classifier Model"
   ]
  },
  {
   "cell_type": "code",
   "execution_count": 34,
   "id": "da17fdd9",
   "metadata": {},
   "outputs": [],
   "source": [
    "clf_poly3 = RFModel.fit(X_train_poly,y_train_poly)\n",
    "y_train_poly_pred3 = clf_poly3.predict(X_train_poly)\n",
    "y_val_poly_pred3 = clf_poly3.predict(X_val_poly)\n",
    "y_test_poly_pred3 = clf_poly3.predict(X_test_poly)"
   ]
  },
  {
   "cell_type": "code",
   "execution_count": 35,
   "id": "f73cf53a",
   "metadata": {},
   "outputs": [
    {
     "data": {
      "text/plain": [
       "1.0"
      ]
     },
     "execution_count": 35,
     "metadata": {},
     "output_type": "execute_result"
    }
   ],
   "source": [
    "roc_train_poly3 = roc_auc_score(y_train_poly, clf_poly3.predict_proba(X_train_poly)[:,1])\n",
    "roc_train_poly3"
   ]
  },
  {
   "cell_type": "code",
   "execution_count": 36,
   "id": "7788c511",
   "metadata": {},
   "outputs": [
    {
     "data": {
      "text/plain": [
       "0.6785728376413297"
      ]
     },
     "execution_count": 36,
     "metadata": {},
     "output_type": "execute_result"
    }
   ],
   "source": [
    "roc_val_poly3 = roc_auc_score(y_val_poly, clf_poly3.predict_proba(X_val_poly)[:,1])\n",
    "roc_val_poly3"
   ]
  },
  {
   "cell_type": "code",
   "execution_count": 37,
   "id": "97277961",
   "metadata": {},
   "outputs": [
    {
     "data": {
      "text/plain": [
       "['../models/randfor_poly_default.joblib']"
      ]
     },
     "execution_count": 37,
     "metadata": {},
     "output_type": "execute_result"
    }
   ],
   "source": [
    "dump(clf_poly3,  '../models/randfor_poly_default.joblib')"
   ]
  },
  {
   "cell_type": "code",
   "execution_count": null,
   "id": "b4f6b99b",
   "metadata": {},
   "outputs": [],
   "source": []
  }
 ],
 "metadata": {
  "kernelspec": {
   "display_name": "Python 3 (ipykernel)",
   "language": "python",
   "name": "python3"
  },
  "language_info": {
   "codemirror_mode": {
    "name": "ipython",
    "version": 3
   },
   "file_extension": ".py",
   "mimetype": "text/x-python",
   "name": "python",
   "nbconvert_exporter": "python",
   "pygments_lexer": "ipython3",
   "version": "3.9.10"
  }
 },
 "nbformat": 4,
 "nbformat_minor": 5
}
