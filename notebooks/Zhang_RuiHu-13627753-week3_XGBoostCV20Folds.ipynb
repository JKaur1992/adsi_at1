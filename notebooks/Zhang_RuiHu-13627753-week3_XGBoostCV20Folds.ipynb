{
 "cells": [
  {
   "cell_type": "markdown",
   "id": "883fe21a",
   "metadata": {},
   "source": [
    "# Initialise packages"
   ]
  },
  {
   "cell_type": "code",
   "execution_count": null,
   "id": "7d837ae2",
   "metadata": {},
   "outputs": [],
   "source": [
    "from joblib import dump\n",
    "import math\n",
    "import pandas as pd\n",
    "import numpy as np\n",
    "import random\n",
    "from sklearn.preprocessing import StandardScaler"
   ]
  },
  {
   "cell_type": "code",
   "execution_count": null,
   "id": "9dc756ca",
   "metadata": {},
   "outputs": [],
   "source": [
    "df_raw_train = pd.read_csv('../data/raw/train.csv')\n",
    "df_raw_test = pd.read_csv('../data/raw/test.csv')"
   ]
  },
  {
   "cell_type": "markdown",
   "id": "fe543c01",
   "metadata": {},
   "source": [
    "## Constant value definition"
   ]
  },
  {
   "cell_type": "code",
   "execution_count": null,
   "id": "3179e72a",
   "metadata": {},
   "outputs": [],
   "source": [
    "train_df_size = 0.8\n",
    "rand_state_ind = 42\n",
    "validation_df_size = 0.2\n",
    "scoring = 'roc_auc'\n",
    "cv = 10"
   ]
  },
  {
   "cell_type": "markdown",
   "id": "322ae0cb",
   "metadata": {},
   "source": [
    "## Data processing"
   ]
  },
  {
   "cell_type": "code",
   "execution_count": null,
   "id": "c70698bf",
   "metadata": {},
   "outputs": [],
   "source": [
    "df_cleaned_train = df_raw_train.copy()\n",
    "\n",
    "target = df_cleaned_train.pop('TARGET_5Yrs')\n",
    "IDlist_train = df_cleaned_train.pop('Id')\n",
    "df_col_names = df_cleaned_train.columns\n",
    "train_dataset_size = IDlist_train.size\n",
    "\n",
    "df_cleaned_train[df_cleaned_train<0] = 0\n",
    "\n",
    "scaler = StandardScaler()\n",
    "array_cleaned_train = scaler.fit_transform(df_cleaned_train)\n",
    "df_cleaned2_train = pd.DataFrame(array_cleaned_train,columns=df_col_names)"
   ]
  },
  {
   "cell_type": "code",
   "execution_count": null,
   "id": "4f38668a",
   "metadata": {},
   "outputs": [],
   "source": [
    "df_cleaned_test = df_raw_test.copy()\n",
    "IDlist_test = df_cleaned_test.pop('Id')\n",
    "df_cleaned_test[df_cleaned_test<0] = 0\n",
    "\n",
    "array_cleaned_test = scaler.transform(df_cleaned_test) \n",
    "df_cleaned2_test = pd.DataFrame(array_cleaned_test,columns=df_col_names)"
   ]
  },
  {
   "cell_type": "markdown",
   "id": "c6b10450",
   "metadata": {},
   "source": [
    "## Calculating size of majority and minority classes"
   ]
  },
  {
   "cell_type": "code",
   "execution_count": null,
   "id": "ce015735",
   "metadata": {},
   "outputs": [],
   "source": [
    "y_train_pos_count = sum(target)\n",
    "y_train_neg_count = target.size - y_train_pos_count"
   ]
  },
  {
   "cell_type": "markdown",
   "id": "9feafc75",
   "metadata": {},
   "source": [
    "## Upsample the minority class for training dataset"
   ]
  },
  {
   "cell_type": "code",
   "execution_count": null,
   "id": "29b54a61",
   "metadata": {},
   "outputs": [],
   "source": [
    "from sklearn.utils import resample"
   ]
  },
  {
   "cell_type": "code",
   "execution_count": null,
   "id": "e504c3e4",
   "metadata": {},
   "outputs": [],
   "source": [
    "df_train_posclass = df_raw_train[df_raw_train['TARGET_5Yrs']==1]\n",
    "df_train_negclass = df_raw_train[df_raw_train['TARGET_5Yrs']==0]\n",
    "df_train_negclass_upsampled = resample(df_train_negclass, replace=True, n_samples=y_train_pos_count, random_state=42)"
   ]
  },
  {
   "cell_type": "code",
   "execution_count": null,
   "id": "b91d990c",
   "metadata": {},
   "outputs": [],
   "source": [
    "df_cleaned3_train = pd.concat([df_train_posclass,df_train_negclass_upsampled])\n",
    "target_upsampled = df_cleaned3_train.pop('TARGET_5Yrs')\n",
    "IDlist_train_upsampled = df_cleaned3_train.pop('Id')"
   ]
  },
  {
   "cell_type": "markdown",
   "id": "67b29ba3",
   "metadata": {},
   "source": [
    "## Set base model"
   ]
  },
  {
   "cell_type": "code",
   "execution_count": null,
   "id": "08d77573",
   "metadata": {},
   "outputs": [],
   "source": [
    "import xgboost as xgb"
   ]
  },
  {
   "cell_type": "code",
   "execution_count": null,
   "id": "e47d6767",
   "metadata": {},
   "outputs": [],
   "source": [
    "XGBModel = xgb.XGBClassifier(use_label_encoder=False, objective='binary:logistic', eval_metric='auc',\n",
    "                             sampling_method='gradient_based')"
   ]
  },
  {
   "cell_type": "markdown",
   "id": "5645814f",
   "metadata": {},
   "source": [
    "## Define grid for search"
   ]
  },
  {
   "cell_type": "code",
   "execution_count": null,
   "id": "ee0a4940",
   "metadata": {},
   "outputs": [],
   "source": [
    "n_estimators = np.logspace(start=round(math.log(train_dataset_size/20,2)), stop=round(math.log(train_dataset_size/4,2)),base=2,num=5).astype(int)\n",
    "max_depth = np.arange(start=2,stop=5)\n",
    "min_child_weight = np.logspace(start=round(math.log(train_dataset_size/20,2)), stop=round(math.log(train_dataset_size/4),2),base=2,num=5).astype(int)\n",
    "learning_rate = np.logspace(start=-2,stop=0,num=5)\n",
    "lambda_reg = np.logspace(start=0,stop=2,num=3)\n",
    "alpha_reg = np.logspace(start=0,stop=2,num=3)\n",
    "param_grid = {'max_depth':max_depth,'n_estimators':n_estimators,'min_child_weight':min_child_weight,\n",
    "               'learning_rate':learning_rate,'lambda':lambda_reg,'alpha':alpha_reg}"
   ]
  },
  {
   "cell_type": "markdown",
   "id": "3678a73d",
   "metadata": {},
   "source": [
    "## Perform randomised search"
   ]
  },
  {
   "cell_type": "code",
   "execution_count": null,
   "id": "65c45619",
   "metadata": {},
   "outputs": [],
   "source": [
    "clf = RandomizedSearchCV(estimator=XGBModel,param_distributions=param_grid,n_iter = 100,cv=cv,scoring=scoring,return_train_score=True,verbose=3)\n",
    "clf.fit(df_cleaned3_train, target_upsampled)\n",
    "clf.score(df_cleaned3_train, target_upsampled)\n",
    "clf.best_estimator_"
   ]
  },
  {
   "cell_type": "markdown",
   "id": "5dd63428",
   "metadata": {},
   "source": [
    "## Save model"
   ]
  },
  {
   "cell_type": "code",
   "execution_count": null,
   "id": "ce7c1024",
   "metadata": {},
   "outputs": [],
   "source": [
    "dump(clf,  '../models/XGB_10cv_randomsearch_biggergrid_upsampled.joblib')"
   ]
  }
 ],
 "metadata": {
  "kernelspec": {
   "display_name": "Python 3 (ipykernel)",
   "language": "python",
   "name": "python3"
  },
  "language_info": {
   "codemirror_mode": {
    "name": "ipython",
    "version": 3
   },
   "file_extension": ".py",
   "mimetype": "text/x-python",
   "name": "python",
   "nbconvert_exporter": "python",
   "pygments_lexer": "ipython3",
   "version": "3.9.10"
  }
 },
 "nbformat": 4,
 "nbformat_minor": 5
}
